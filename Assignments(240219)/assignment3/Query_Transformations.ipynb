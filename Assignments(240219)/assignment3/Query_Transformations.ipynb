{
  "nbformat": 4,
  "nbformat_minor": 0,
  "metadata": {
    "colab": {
      "provenance": []
    },
    "kernelspec": {
      "name": "python3",
      "display_name": "Python 3"
    },
    "language_info": {
      "name": "python"
    }
  },
  "cells": [
    {
      "cell_type": "code",
      "execution_count": 6,
      "metadata": {
        "id": "j7H1lo9Mf9jA"
      },
      "outputs": [],
      "source": [
        "!pip install langchain groq python-dotenv -q langchain_community langchain_groq\n"
      ]
    },
    {
      "cell_type": "code",
      "source": [
        "import os\n",
        "\n",
        "# 🔐 Paste your actual Groq key inside the quotes (DO NOT share this key)\n",
        "os.environ[\"GROQ_API_KEY\"] = \"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\"\n"
      ],
      "metadata": {
        "id": "R4rvi5DChmTG"
      },
      "execution_count": 14,
      "outputs": []
    },
    {
      "cell_type": "code",
      "source": [
        "from langchain_groq.chat_models import ChatGroq\n",
        "from langchain.prompts import PromptTemplate\n",
        "\n",
        "# Initialize Groq's Mixtral model\n",
        "llm = ChatGroq(model=\"llama3-70b-8192\", temperature=0)\n"
      ],
      "metadata": {
        "id": "nTqlISdrgVUN"
      },
      "execution_count": 19,
      "outputs": []
    },
    {
      "cell_type": "code",
      "source": [
        "rewrite_prompt = PromptTemplate(\n",
        "    input_variables=[\"original\"],\n",
        "    template=\"\"\"\n",
        "You're helping a search engine understand queries better.\n",
        "\n",
        "Take the input and rewrite it to be more specific and focused.\n",
        "Original: {original}\n",
        "Rewritten:\"\"\"\n",
        ")\n",
        "\n",
        "rewrite_chain = rewrite_prompt | llm\n",
        "\n",
        "def rewrite_query(original):\n",
        "    return rewrite_chain.invoke({\"original\": original}).content.strip()\n"
      ],
      "metadata": {
        "id": "CLYXQq1WgJk5"
      },
      "execution_count": 20,
      "outputs": []
    },
    {
      "cell_type": "code",
      "source": [
        "query = \"What are the effects of climate change?\"\n",
        "print(\"🔁 Rewritten Query:\\n\", rewrite_query(query))\n"
      ],
      "metadata": {
        "colab": {
          "base_uri": "https://localhost:8080/"
        },
        "id": "mWk_jt3niYtm",
        "outputId": "2d807b62-2a8c-4902-9b13-5386803fe252"
      },
      "execution_count": 21,
      "outputs": [
        {
          "output_type": "stream",
          "name": "stdout",
          "text": [
            "🔁 Rewritten Query:\n",
            " Here's a rewritten version of the query:\n",
            "\n",
            "\"What are the most significant and scientifically-supported consequences of global warming on the environment, human health, and the economy?\"\n",
            "\n",
            "This rewritten query is more specific and focused because it:\n",
            "\n",
            "* Specifies the scope of climate change (global warming)\n",
            "* Identifies the areas of interest (environment, human health, and economy)\n",
            "* Requests scientifically-supported information to ensure credible results\n",
            "* Asks for the most significant consequences, which will help the search engine return the most relevant and impactful information.\n"
          ]
        }
      ]
    },
    {
      "cell_type": "code",
      "source": [
        "stepback_prompt = PromptTemplate(\n",
        "    input_variables=[\"original\"],\n",
        "    template=\"\"\"\n",
        "Generate a more general version of the question to help retrieve background context.\n",
        "\n",
        "Original: {original}\n",
        "Step-back:\"\"\"\n",
        ")\n",
        "\n",
        "stepback_chain = stepback_prompt | llm\n",
        "\n",
        "def generate_stepback_query(original):\n",
        "    return stepback_chain.invoke({\"original\": original}).content.strip()\n"
      ],
      "metadata": {
        "id": "Vj86M_l9ibDm"
      },
      "execution_count": 22,
      "outputs": []
    },
    {
      "cell_type": "code",
      "source": [
        "print(\"🪄 Step-back Query:\\n\", generate_stepback_query(query))\n"
      ],
      "metadata": {
        "colab": {
          "base_uri": "https://localhost:8080/"
        },
        "id": "Xgbo7IuLirdw",
        "outputId": "0b38433f-d8f0-4070-f8ad-101a33657fd6"
      },
      "execution_count": 23,
      "outputs": [
        {
          "output_type": "stream",
          "name": "stdout",
          "text": [
            "🪄 Step-back Query:\n",
            " Here's a more general version of the question to help retrieve background context:\n",
            "\n",
            "* What are the consequences of environmental changes?\n",
            "* How do changes in the Earth's systems impact the planet and its inhabitants?\n",
            "* What are the repercussions of altering the natural balance of the Earth's ecosystem?\n",
            "\n",
            "These step-back questions can help provide a broader understanding of the topic, including the causes and effects of climate change, as well as its implications on the environment, human societies, and the economy.\n"
          ]
        }
      ]
    },
    {
      "cell_type": "code",
      "source": [
        "sub_prompt = PromptTemplate(\n",
        "    input_variables=[\"original\"],\n",
        "    template=\"\"\"\n",
        "Break down this question into 2 to 4 simpler sub-questions for retrieval.\n",
        "\n",
        "Original: {original}\n",
        "\n",
        "Sub-queries:\n",
        "1.\"\"\"\n",
        ")\n",
        "\n",
        "sub_chain = sub_prompt | llm\n",
        "\n",
        "def decompose_query(original):\n",
        "    output = sub_chain.invoke({\"original\": original}).content.strip()\n",
        "    return [line for line in output.split(\"\\n\") if line.strip().startswith((\"1.\", \"2.\", \"3.\", \"4.\"))]\n"
      ],
      "metadata": {
        "id": "7LaP4T4lis_r"
      },
      "execution_count": 24,
      "outputs": []
    },
    {
      "cell_type": "code",
      "source": [
        "print(\"🧩 Sub-Queries:\")\n",
        "for sq in decompose_query(query):\n",
        "    print(sq)\n"
      ],
      "metadata": {
        "colab": {
          "base_uri": "https://localhost:8080/"
        },
        "id": "UvpLqmd4iu39",
        "outputId": "70e2669c-bfa2-46b5-bcff-06fe9eac0331"
      },
      "execution_count": 25,
      "outputs": [
        {
          "output_type": "stream",
          "name": "stdout",
          "text": [
            "🧩 Sub-Queries:\n",
            "1. What are the physical effects of climate change on the environment?\n",
            "2. How does climate change impact ecosystems and biodiversity?\n",
            "3. What are the consequences of climate change on human health and well-being?\n",
            "4. What are the economic and social implications of climate change?\n"
          ]
        }
      ]
    },
    {
      "cell_type": "code",
      "source": [],
      "metadata": {
        "id": "ZBgZ5138iwKs"
      },
      "execution_count": null,
      "outputs": []
    }
  ]
}